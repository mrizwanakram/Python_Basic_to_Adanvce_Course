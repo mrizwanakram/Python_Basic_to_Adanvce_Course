{
 "cells": [
  {
   "cell_type": "code",
   "execution_count": 1,
   "id": "7eed4d89",
   "metadata": {},
   "outputs": [],
   "source": [
    "item1 = \"breed\"\n",
    "item2 = \"pasta\"\n",
    "item3 = \"fruits\"\n",
    "items = [\"bread\",\"pasta\",\"fruits\"]\n"
   ]
  },
  {
   "cell_type": "code",
   "execution_count": 3,
   "id": "b2572919",
   "metadata": {},
   "outputs": [
    {
     "data": {
      "text/plain": [
       "['bread', 'pasta', 'fruits']"
      ]
     },
     "execution_count": 3,
     "metadata": {},
     "output_type": "execute_result"
    }
   ],
   "source": [
    "items"
   ]
  },
  {
   "cell_type": "code",
   "execution_count": 4,
   "id": "a2bbfd92",
   "metadata": {},
   "outputs": [
    {
     "data": {
      "text/plain": [
       "'fruits'"
      ]
     },
     "execution_count": 4,
     "metadata": {},
     "output_type": "execute_result"
    }
   ],
   "source": [
    "items[2]"
   ]
  },
  {
   "cell_type": "code",
   "execution_count": 5,
   "id": "c8669367",
   "metadata": {},
   "outputs": [],
   "source": [
    "items[0] = \"chips\""
   ]
  },
  {
   "cell_type": "code",
   "execution_count": 6,
   "id": "20055646",
   "metadata": {},
   "outputs": [
    {
     "data": {
      "text/plain": [
       "['chips', 'pasta', 'fruits']"
      ]
     },
     "execution_count": 6,
     "metadata": {},
     "output_type": "execute_result"
    }
   ],
   "source": [
    "items"
   ]
  },
  {
   "cell_type": "code",
   "execution_count": 7,
   "id": "d9c740d6",
   "metadata": {},
   "outputs": [
    {
     "data": {
      "text/plain": [
       "['chips', 'pasta']"
      ]
     },
     "execution_count": 7,
     "metadata": {},
     "output_type": "execute_result"
    }
   ],
   "source": [
    "items[0:2]"
   ]
  },
  {
   "cell_type": "code",
   "execution_count": 9,
   "id": "c18adbf0",
   "metadata": {},
   "outputs": [
    {
     "data": {
      "text/plain": [
       "'fruits'"
      ]
     },
     "execution_count": 9,
     "metadata": {},
     "output_type": "execute_result"
    }
   ],
   "source": [
    "items[-1]"
   ]
  },
  {
   "cell_type": "code",
   "execution_count": 10,
   "id": "c0af92f0",
   "metadata": {},
   "outputs": [
    {
     "data": {
      "text/plain": [
       "'chips'"
      ]
     },
     "execution_count": 10,
     "metadata": {},
     "output_type": "execute_result"
    }
   ],
   "source": [
    "items[-3]"
   ]
  },
  {
   "cell_type": "code",
   "execution_count": 11,
   "id": "dab5cca6",
   "metadata": {},
   "outputs": [],
   "source": [
    "items.append(\"apple\")"
   ]
  },
  {
   "cell_type": "code",
   "execution_count": 12,
   "id": "7f7ac8ef",
   "metadata": {},
   "outputs": [
    {
     "data": {
      "text/plain": [
       "['chips', 'pasta', 'fruits', 'apple']"
      ]
     },
     "execution_count": 12,
     "metadata": {},
     "output_type": "execute_result"
    }
   ],
   "source": [
    "items"
   ]
  },
  {
   "cell_type": "code",
   "execution_count": 17,
   "id": "374ab279",
   "metadata": {},
   "outputs": [],
   "source": [
    "items.insert(1,\"mango\")"
   ]
  },
  {
   "cell_type": "code",
   "execution_count": 18,
   "id": "afaaa2e3",
   "metadata": {},
   "outputs": [
    {
     "data": {
      "text/plain": [
       "['chips', 'mango', 'pasta', 'fruits', 'apple']"
      ]
     },
     "execution_count": 18,
     "metadata": {},
     "output_type": "execute_result"
    }
   ],
   "source": [
    "items"
   ]
  },
  {
   "cell_type": "code",
   "execution_count": 19,
   "id": "84d1b228",
   "metadata": {},
   "outputs": [],
   "source": [
    "items1 = [\"onion\",\"zinger\"]"
   ]
  },
  {
   "cell_type": "code",
   "execution_count": 22,
   "id": "e87f0fa8",
   "metadata": {},
   "outputs": [],
   "source": [
    "final_list = items + items1"
   ]
  },
  {
   "cell_type": "code",
   "execution_count": 23,
   "id": "6eade5ca",
   "metadata": {},
   "outputs": [
    {
     "data": {
      "text/plain": [
       "['chips', 'mango', 'pasta', 'fruits', 'apple', 'onion', 'zinger']"
      ]
     },
     "execution_count": 23,
     "metadata": {},
     "output_type": "execute_result"
    }
   ],
   "source": [
    "final_list"
   ]
  },
  {
   "cell_type": "code",
   "execution_count": 24,
   "id": "8b53f05a",
   "metadata": {},
   "outputs": [
    {
     "ename": "TypeError",
     "evalue": "can only concatenate list (not \"str\") to list",
     "output_type": "error",
     "traceback": [
      "\u001b[1;31m---------------------------------------------------------------------------\u001b[0m",
      "\u001b[1;31mTypeError\u001b[0m                                 Traceback (most recent call last)",
      "\u001b[1;32m<ipython-input-24-2ed2df8ea19a>\u001b[0m in \u001b[0;36m<module>\u001b[1;34m\u001b[0m\n\u001b[1;32m----> 1\u001b[1;33m \u001b[0mitems\u001b[0m \u001b[1;33m+\u001b[0m \u001b[1;34m\"chilli\"\u001b[0m\u001b[1;33m\u001b[0m\u001b[1;33m\u001b[0m\u001b[0m\n\u001b[0m",
      "\u001b[1;31mTypeError\u001b[0m: can only concatenate list (not \"str\") to list"
     ]
    }
   ],
   "source": [
    "items + \"chilli\""
   ]
  },
  {
   "cell_type": "code",
   "execution_count": 25,
   "id": "d96778d9",
   "metadata": {},
   "outputs": [],
   "source": [
    "#can not concatinate a string and chracters"
   ]
  },
  {
   "cell_type": "code",
   "execution_count": 26,
   "id": "51b835a8",
   "metadata": {},
   "outputs": [
    {
     "data": {
      "text/plain": [
       "5"
      ]
     },
     "execution_count": 26,
     "metadata": {},
     "output_type": "execute_result"
    }
   ],
   "source": [
    "len(items)"
   ]
  },
  {
   "cell_type": "code",
   "execution_count": 28,
   "id": "a3338f50",
   "metadata": {},
   "outputs": [
    {
     "data": {
      "text/plain": [
       "False"
      ]
     },
     "execution_count": 28,
     "metadata": {},
     "output_type": "execute_result"
    }
   ],
   "source": [
    "\"chilli\" in items"
   ]
  },
  {
   "cell_type": "code",
   "execution_count": 29,
   "id": "77b33ce7",
   "metadata": {},
   "outputs": [
    {
     "data": {
      "text/plain": [
       "True"
      ]
     },
     "execution_count": 29,
     "metadata": {},
     "output_type": "execute_result"
    }
   ],
   "source": [
    "\"mango\" in items"
   ]
  },
  {
   "cell_type": "code",
   "execution_count": null,
   "id": "e2685411",
   "metadata": {},
   "outputs": [],
   "source": []
  }
 ],
 "metadata": {
  "kernelspec": {
   "display_name": "Python 3",
   "language": "python",
   "name": "python3"
  },
  "language_info": {
   "codemirror_mode": {
    "name": "ipython",
    "version": 3
   },
   "file_extension": ".py",
   "mimetype": "text/x-python",
   "name": "python",
   "nbconvert_exporter": "python",
   "pygments_lexer": "ipython3",
   "version": "3.8.8"
  }
 },
 "nbformat": 4,
 "nbformat_minor": 5
}
