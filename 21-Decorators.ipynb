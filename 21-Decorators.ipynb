{
 "cells": [
  {
   "cell_type": "code",
   "execution_count": 1,
   "metadata": {},
   "outputs": [],
   "source": [
    "#Decorators\n",
    "# Decorators are a way to modify the behavior of a function or method.\n",
    "# They are used to modify the behavior of a function or method.\n"
   ]
  },
  {
   "cell_type": "code",
   "execution_count": 5,
   "metadata": {},
   "outputs": [
    {
     "name": "stdout",
     "output_type": "stream",
     "text": [
      "calc square took 593.0078029632568milliseconds\n"
     ]
    }
   ],
   "source": [
    "import time\n",
    "\n",
    "def calc_square(numbers):\n",
    "    start = time.time()\n",
    "    result = []\n",
    "    for number in numbers:\n",
    "        result.append(number * number)\n",
    "        end = time.time()\n",
    "    print(\"calc square took \"+ str((end - start)*1000) + \"milliseconds\")\n",
    "    return result\n",
    "\n",
    "array = range(1, 1000000)\n",
    "out_square = calc_square(array)\n"
   ]
  },
  {
   "cell_type": "code",
   "execution_count": 6,
   "metadata": {},
   "outputs": [
    {
     "name": "stdout",
     "output_type": "stream",
     "text": [
      "calc square took 741.0204410552979milliseconds\n"
     ]
    }
   ],
   "source": [
    "def calc_cube(numbers):\n",
    "    start = time.time()\n",
    "    result = []\n",
    "    for number in numbers:\n",
    "        result.append(number * number * number)\n",
    "        end = time.time()\n",
    "    print(\"calc square took \"+ str((end - start)*1000) + \"milliseconds\")\n",
    "    return result\n",
    "\n",
    "array = range(1, 1000000)\n",
    "out_square = calc_cube(array)"
   ]
  },
  {
   "cell_type": "code",
   "execution_count": null,
   "metadata": {},
   "outputs": [],
   "source": []
  },
  {
   "cell_type": "code",
   "execution_count": 7,
   "metadata": {},
   "outputs": [],
   "source": [
    "#Use of Decorators"
   ]
  },
  {
   "cell_type": "code",
   "execution_count": 8,
   "metadata": {},
   "outputs": [],
   "source": [
    "#Functions are first class objects in python.What is means is that they can be treated just\n",
    "#like any other variables and you can pass them as argument to another function or even return value."
   ]
  },
  {
   "cell_type": "code",
   "execution_count": 10,
   "metadata": {},
   "outputs": [
    {
     "name": "stdout",
     "output_type": "stream",
     "text": [
      "calc_squarecalc square took 349.0884304046631milliseconds\n",
      "calc_cubecalc square took 640.1300430297852milliseconds\n"
     ]
    }
   ],
   "source": [
    "#Notice that python allows us to write nested functions.\n",
    "# *Arg is a list of arguments passed to the function.\n",
    "# **kwargs is a dictionary of keyword arguments passed to the function.\n",
    "\n",
    "import time \n",
    "def time_it(func):\n",
    "    def wrapper(*args, **kwargs):\n",
    "            start = time.time()\n",
    "            result = func(*args, **kwargs)\n",
    "            end = time.time()\n",
    "            print(func.__name__ +\"calc square took \"+ str((end - start)*1000) + \"milliseconds\")\n",
    "            return result\n",
    "    return wrapper\n",
    "\n",
    "#decorate the function with the decorator\n",
    "@time_it\n",
    "def calc_square(numbers):\n",
    "    result = []\n",
    "    for number in numbers:\n",
    "        result.append(number * number)\n",
    "    return result\n",
    "\n",
    "# decorate the function with the decorator\n",
    "@time_it\n",
    "def calc_cube(numbers):\n",
    "    result = []\n",
    "    for number in numbers:\n",
    "        result.append(number * number * number)\n",
    "    return result\n",
    "\n",
    "array = range(1, 1000000)\n",
    "out_square = calc_square(array)\n",
    "out_cube = calc_cube(array)\n",
    "    "
   ]
  },
  {
   "cell_type": "code",
   "execution_count": null,
   "metadata": {},
   "outputs": [],
   "source": []
  }
 ],
 "metadata": {
  "kernelspec": {
   "display_name": "Python 3.9.7 64-bit",
   "language": "python",
   "name": "python3"
  },
  "language_info": {
   "codemirror_mode": {
    "name": "ipython",
    "version": 3
   },
   "file_extension": ".py",
   "mimetype": "text/x-python",
   "name": "python",
   "nbconvert_exporter": "python",
   "pygments_lexer": "ipython3",
   "version": "3.9.7"
  },
  "orig_nbformat": 4,
  "vscode": {
   "interpreter": {
    "hash": "6813e28bbd3b74e18b208e6cce46887429a668630322c457c98c074ae59972e4"
   }
  }
 },
 "nbformat": 4,
 "nbformat_minor": 2
}
