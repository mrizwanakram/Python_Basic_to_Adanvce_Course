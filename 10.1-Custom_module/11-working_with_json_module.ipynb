{
 "cells": [
  {
   "cell_type": "code",
   "execution_count": 1,
   "metadata": {},
   "outputs": [],
   "source": [
    "#JSON = java script object Notation\n",
    "#JSON is a data exchange format similar to XML\n"
   ]
  },
  {
   "cell_type": "code",
   "execution_count": 18,
   "metadata": {},
   "outputs": [
    {
     "data": {
      "text/plain": [
       "{'name': 'tom', 'adress': '1 green street,NY', 'phone': '234567889'}"
      ]
     },
     "execution_count": 18,
     "metadata": {},
     "output_type": "execute_result"
    }
   ],
   "source": [
    "#  JSON\n",
    "{\n",
    "     \"name\":\"tom\",\n",
    "     \"adress\":\"1 green street,NY\",\n",
    "     \"phone\":\"234567889\"\n",
    " }\n",
    "\n",
    "#XML\n",
    "# <name>Tom</name>\n",
    "# <address>1 green street,NY</address>\n",
    "# <phone>234455677</phone>"
   ]
  },
  {
   "cell_type": "code",
   "execution_count": 9,
   "metadata": {},
   "outputs": [],
   "source": [
    "#Json is a lightweight format compared to XML\n"
   ]
  },
  {
   "cell_type": "code",
   "execution_count": 13,
   "metadata": {},
   "outputs": [],
   "source": [
    "# Problem\n",
    "#we write to programs\n",
    "#(1) To Create address book and write some records into it\n",
    "#(2) Read this address book"
   ]
  },
  {
   "cell_type": "code",
   "execution_count": 20,
   "metadata": {},
   "outputs": [],
   "source": [
    "book = {}\n",
    "book['tom'] = {\n",
    "    \"name\":\"tom\",\n",
    "    \"adress\": \"1 green street,NY\",\n",
    "    \"phone\":234567889\n",
    "}\n",
    "\n"
   ]
  },
  {
   "cell_type": "code",
   "execution_count": null,
   "metadata": {},
   "outputs": [],
   "source": [
    "# import json\n",
    "# s = json.dumps(book)\n",
    "# with open(\"Address where we want to store our file\")\n",
    "#     f.write(s)\n",
    "#we use w for write and r for read\n"
   ]
  }
 ],
 "metadata": {
  "kernelspec": {
   "display_name": "Python 3.9.7 64-bit",
   "language": "python",
   "name": "python3"
  },
  "language_info": {
   "codemirror_mode": {
    "name": "ipython",
    "version": 3
   },
   "file_extension": ".py",
   "mimetype": "text/x-python",
   "name": "python",
   "nbconvert_exporter": "python",
   "pygments_lexer": "ipython3",
   "version": "3.9.7"
  },
  "orig_nbformat": 4,
  "vscode": {
   "interpreter": {
    "hash": "6813e28bbd3b74e18b208e6cce46887429a668630322c457c98c074ae59972e4"
   }
  }
 },
 "nbformat": 4,
 "nbformat_minor": 2
}
