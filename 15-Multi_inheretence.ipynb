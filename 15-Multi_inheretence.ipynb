{
 "cells": [
  {
   "cell_type": "code",
   "execution_count": null,
   "metadata": {},
   "outputs": [],
   "source": [
    "#Multi_inheretence\n",
    "# Multi-inheritance means that a class can inherit from more than one other class.\n"
   ]
  },
  {
   "cell_type": "code",
   "execution_count": 2,
   "metadata": {},
   "outputs": [
    {
     "name": "stdout",
     "output_type": "stream",
     "text": [
      "I enjoy gardening\n",
      "I enjoy cooking\n",
      "I enjoy sports\n"
     ]
    }
   ],
   "source": [
    "class Father():\n",
    "    def gardening(self):\n",
    "        print(\"I enjoy gardening\")\n",
    "        \n",
    "class Mother():\n",
    "    def cooking(self):\n",
    "        print(\"I enjoy cooking\")\n",
    "\n",
    "class child(Father, Mother):\n",
    "    def sports(self):\n",
    "        print(\"I enjoy sports\")\n",
    "        \n",
    "c = child()\n",
    "c.gardening()\n",
    "c.cooking()\n",
    "c.sports()    "
   ]
  },
  {
   "cell_type": "code",
   "execution_count": null,
   "metadata": {},
   "outputs": [],
   "source": []
  }
 ],
 "metadata": {
  "kernelspec": {
   "display_name": "Python 3.9.7 64-bit",
   "language": "python",
   "name": "python3"
  },
  "language_info": {
   "codemirror_mode": {
    "name": "ipython",
    "version": 3
   },
   "file_extension": ".py",
   "mimetype": "text/x-python",
   "name": "python",
   "nbconvert_exporter": "python",
   "pygments_lexer": "ipython3",
   "version": "3.9.7"
  },
  "orig_nbformat": 4,
  "vscode": {
   "interpreter": {
    "hash": "6813e28bbd3b74e18b208e6cce46887429a668630322c457c98c074ae59972e4"
   }
  }
 },
 "nbformat": 4,
 "nbformat_minor": 2
}
