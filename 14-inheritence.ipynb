{
 "cells": [
  {
   "cell_type": "code",
   "execution_count": null,
   "id": "1b20ce53",
   "metadata": {},
   "outputs": [],
   "source": [
    "#inheritence is the process of creating a new class that inherits all the methods and attributes from another class\n",
    "# we can use the super() function to call the parent class\n",
    "# super() is a function that takes in the name of the parent class as an argument\n",
    "# derived class is the child class\n",
    "# parent class is the base class\n"
   ]
  },
  {
   "cell_type": "code",
   "execution_count": 2,
   "id": "81c0f880",
   "metadata": {},
   "outputs": [
    {
     "name": "stdout",
     "output_type": "stream",
     "text": [
      "Car is a vehicle\n",
      "Motorcycle is a vehicle\n",
      "General usage : Transports people\n",
      "Specific usage : Motorcycle is used for transportation\n"
     ]
    }
   ],
   "source": [
    "class vehicle:\n",
    "    def general_usage(self):\n",
    "        print(\"General usage : Transports people\")\n",
    "        \n",
    "class Car(vehicle):\n",
    "    def __init__(self):\n",
    "        print(\"Car is a vehicle\")\n",
    "        self.wheels = 4\n",
    "        self.has_roof = True\n",
    "        \n",
    "    def specific_usage(self):\n",
    "        self.general_usage()\n",
    "        print(\"Specific usage : Car is used for transportation\")\n",
    "        \n",
    "class Motorcycle(vehicle):\n",
    "    def __init__(self):\n",
    "        print(\"Motorcycle is a vehicle\")\n",
    "        self.wheels = 2\n",
    "        self.has_roof = False\n",
    "        \n",
    "    def specific_usage(self):\n",
    "        self.general_usage()\n",
    "        print(\"Specific usage : Motorcycle is used for transportation\")\n",
    "\n",
    "c = Car()\n",
    "m = Motorcycle()\n",
    "m.specific_usage()\n"
   ]
  },
  {
   "cell_type": "code",
   "execution_count": 3,
   "id": "f4b4bb7c",
   "metadata": {},
   "outputs": [
    {
     "name": "stdout",
     "output_type": "stream",
     "text": [
      "Car is a vehicle\n",
      "Motorcycle is a vehicle\n",
      "True\n"
     ]
    }
   ],
   "source": [
    "c = Car()\n",
    "m = Motorcycle()\n",
    "print(isinstance(c,Car))"
   ]
  },
  {
   "cell_type": "code",
   "execution_count": 4,
   "id": "3c0e16de",
   "metadata": {},
   "outputs": [
    {
     "name": "stdout",
     "output_type": "stream",
     "text": [
      "Car is a vehicle\n",
      "Motorcycle is a vehicle\n",
      "False\n"
     ]
    }
   ],
   "source": [
    "c = Car()\n",
    "m = Motorcycle()\n",
    "print(isinstance(c,Motorcycle))"
   ]
  },
  {
   "cell_type": "code",
   "execution_count": 5,
   "id": "620cc064",
   "metadata": {},
   "outputs": [
    {
     "name": "stdout",
     "output_type": "stream",
     "text": [
      "True\n"
     ]
    }
   ],
   "source": [
    "print(issubclass(Car,vehicle))"
   ]
  },
  {
   "cell_type": "code",
   "execution_count": 6,
   "id": "75c8f1b5",
   "metadata": {},
   "outputs": [
    {
     "name": "stdout",
     "output_type": "stream",
     "text": [
      "True\n"
     ]
    }
   ],
   "source": [
    "print(issubclass(Motorcycle,vehicle))"
   ]
  },
  {
   "cell_type": "code",
   "execution_count": 8,
   "id": "bc8ac662",
   "metadata": {},
   "outputs": [
    {
     "name": "stdout",
     "output_type": "stream",
     "text": [
      "False\n"
     ]
    }
   ],
   "source": [
    "print(issubclass(Car,Motorcycle))"
   ]
  }
 ],
 "metadata": {
  "kernelspec": {
   "display_name": "Python 3.9.7 64-bit",
   "language": "python",
   "name": "python3"
  },
  "language_info": {
   "codemirror_mode": {
    "name": "ipython",
    "version": 3
   },
   "file_extension": ".py",
   "mimetype": "text/x-python",
   "name": "python",
   "nbconvert_exporter": "python",
   "pygments_lexer": "ipython3",
   "version": "3.9.7"
  },
  "vscode": {
   "interpreter": {
    "hash": "6813e28bbd3b74e18b208e6cce46887429a668630322c457c98c074ae59972e4"
   }
  }
 },
 "nbformat": 4,
 "nbformat_minor": 5
}
