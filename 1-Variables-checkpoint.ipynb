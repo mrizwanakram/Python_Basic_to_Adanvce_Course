{
 "cells": [
  {
   "cell_type": "code",
   "execution_count": 2,
   "id": "f5427c14",
   "metadata": {},
   "outputs": [
    {
     "name": "stdout",
     "output_type": "stream",
     "text": [
      "The total expensis are : 9200\n"
     ]
    }
   ],
   "source": [
    "Rent = 1200\n",
    "Salary = 20000\n",
    "Light_bill = 3000\n",
    "Grocery_bill = 5000\n",
    "total_expensis = Rent+Light_bill+Grocery_bill\n",
    "print(\"The total expensis are :\",total_expensis)"
   ]
  },
  {
   "cell_type": "code",
   "execution_count": 3,
   "id": "d9841a4f",
   "metadata": {},
   "outputs": [
    {
     "name": "stdout",
     "output_type": "stream",
     "text": [
      "1200\n"
     ]
    }
   ],
   "source": [
    "print(Rent)"
   ]
  },
  {
   "cell_type": "code",
   "execution_count": 4,
   "id": "3588520d",
   "metadata": {},
   "outputs": [],
   "source": [
    "Rent = 1500"
   ]
  },
  {
   "cell_type": "code",
   "execution_count": 5,
   "id": "a2479db1",
   "metadata": {},
   "outputs": [
    {
     "name": "stdout",
     "output_type": "stream",
     "text": [
      "1500\n"
     ]
    }
   ],
   "source": [
    "print(Rent)"
   ]
  },
  {
   "cell_type": "code",
   "execution_count": null,
   "id": "db328466",
   "metadata": {},
   "outputs": [],
   "source": []
  },
  {
   "cell_type": "code",
   "execution_count": null,
   "id": "b63287a8",
   "metadata": {},
   "outputs": [],
   "source": []
  },
  {
   "cell_type": "code",
   "execution_count": 15,
   "id": "998abffd",
   "metadata": {},
   "outputs": [
    {
     "name": "stdout",
     "output_type": "stream",
     "text": [
      "The remaing salry is:  10800\n"
     ]
    }
   ],
   "source": [
    "Remaining_incom = Salary - total_expensis\n",
    "print(\"The remaing salry is: \",Remaining_incom)"
   ]
  },
  {
   "cell_type": "code",
   "execution_count": 6,
   "id": "5a0cbaef",
   "metadata": {},
   "outputs": [
    {
     "name": "stdout",
     "output_type": "stream",
     "text": [
      "Expense itrms :  rent gas grocres\n"
     ]
    }
   ],
   "source": [
    "item1 = \"rent\"\n",
    "item2 = \"gas\"\n",
    "item3 = \"grocres\"\n",
    "print(\"Expense itrms : \",item1,item2,item3)"
   ]
  },
  {
   "cell_type": "code",
   "execution_count": 7,
   "id": "53413d19",
   "metadata": {},
   "outputs": [
    {
     "ename": "SyntaxError",
     "evalue": "cannot assign to True (<ipython-input-7-af5a9256611a>, line 2)",
     "output_type": "error",
     "traceback": [
      "\u001b[1;36m  File \u001b[1;32m\"<ipython-input-7-af5a9256611a>\"\u001b[1;36m, line \u001b[1;32m2\u001b[0m\n\u001b[1;33m    True = 20\u001b[0m\n\u001b[1;37m    ^\u001b[0m\n\u001b[1;31mSyntaxError\u001b[0m\u001b[1;31m:\u001b[0m cannot assign to True\n"
     ]
    }
   ],
   "source": [
    "# we can not use a key word as a valiable name in python\n",
    "True = 20"
   ]
  },
  {
   "cell_type": "code",
   "execution_count": null,
   "id": "64a9a181",
   "metadata": {},
   "outputs": [],
   "source": []
  }
 ],
 "metadata": {
  "kernelspec": {
   "display_name": "Python 3",
   "language": "python",
   "name": "python3"
  },
  "language_info": {
   "codemirror_mode": {
    "name": "ipython",
    "version": 3
   },
   "file_extension": ".py",
   "mimetype": "text/x-python",
   "name": "python",
   "nbconvert_exporter": "python",
   "pygments_lexer": "ipython3",
   "version": "3.8.8"
  }
 },
 "nbformat": 4,
 "nbformat_minor": 5
}
