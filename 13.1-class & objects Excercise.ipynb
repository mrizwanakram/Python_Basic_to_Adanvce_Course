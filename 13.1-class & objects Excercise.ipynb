{
 "cells": [
  {
   "cell_type": "markdown",
   "id": "11adf962",
   "metadata": {},
   "source": [
    "### Problem 1:"
   ]
  },
  {
   "cell_type": "code",
   "execution_count": 1,
   "id": "7caba519",
   "metadata": {},
   "outputs": [],
   "source": [
    "#Create a sample class named Employee with two attributes id and name\n",
    "# employee :\n",
    "#     id\n",
    "#     name"
   ]
  },
  {
   "cell_type": "code",
   "execution_count": 28,
   "id": "78dc9ca2",
   "metadata": {},
   "outputs": [
    {
     "name": "stdout",
     "output_type": "stream",
     "text": [
      "ID: 1 \n",
      "Name:rizwan\n"
     ]
    }
   ],
   "source": [
    "class Employee:\n",
    "    def __init__(self,id,name):\n",
    "        self.id = id\n",
    "        self.name = name\n",
    "    def display(self):\n",
    "        print(f\"ID: {self.id} \\nName:{self.name}\")\n",
    "# Creating a emp instance of Employee class\n",
    "emp = Employee(1,\"rizwan\")\n",
    "emp.display()"
   ]
  },
  {
   "cell_type": "code",
   "execution_count": 29,
   "id": "98d36a8e",
   "metadata": {},
   "outputs": [
    {
     "name": "stdout",
     "output_type": "stream",
     "text": [
      "ID: 1 \n",
      "Name:rizwan\n"
     ]
    }
   ],
   "source": [
    "class Employee:\n",
    "    def __init__(self,id,name):\n",
    "        self.id = id\n",
    "        self.name = name\n",
    "    def display(self):\n",
    "        print(f\"ID: {self.id} \\nName:{self.name}\")\n",
    "# Creating a emp instance of Employee class\n",
    "emp = Employee(1,\"rizwan\")\n",
    "emp.display()\n",
    "\n"
   ]
  },
  {
   "cell_type": "code",
   "execution_count": 30,
   "id": "1bdf66f6",
   "metadata": {},
   "outputs": [
    {
     "name": "stdout",
     "output_type": "stream",
     "text": [
      "ID: 1 \n",
      "Name:rizwan\n"
     ]
    },
    {
     "ename": "AttributeError",
     "evalue": "'Employee' object has no attribute 'id'",
     "output_type": "error",
     "traceback": [
      "\u001b[1;31m---------------------------------------------------------------------------\u001b[0m",
      "\u001b[1;31mAttributeError\u001b[0m                            Traceback (most recent call last)",
      "\u001b[1;32m<ipython-input-30-fecd4612d96f>\u001b[0m in \u001b[0;36m<module>\u001b[1;34m\u001b[0m\n\u001b[0;32m     13\u001b[0m \u001b[1;31m# Deleting the object itself\u001b[0m\u001b[1;33m\u001b[0m\u001b[1;33m\u001b[0m\u001b[1;33m\u001b[0m\u001b[0m\n\u001b[0;32m     14\u001b[0m \u001b[1;32mtry\u001b[0m\u001b[1;33m:\u001b[0m\u001b[1;33m\u001b[0m\u001b[1;33m\u001b[0m\u001b[0m\n\u001b[1;32m---> 15\u001b[1;33m     \u001b[0mprint\u001b[0m\u001b[1;33m(\u001b[0m\u001b[0memp\u001b[0m\u001b[1;33m.\u001b[0m\u001b[0mid\u001b[0m\u001b[1;33m)\u001b[0m\u001b[1;33m\u001b[0m\u001b[1;33m\u001b[0m\u001b[0m\n\u001b[0m\u001b[0;32m     16\u001b[0m \u001b[1;32mexcept\u001b[0m \u001b[0mNameError\u001b[0m\u001b[1;33m:\u001b[0m\u001b[1;33m\u001b[0m\u001b[1;33m\u001b[0m\u001b[0m\n\u001b[0;32m     17\u001b[0m     \u001b[0mprint\u001b[0m\u001b[1;33m(\u001b[0m\u001b[1;34m\"emp.id is not defined\"\u001b[0m\u001b[1;33m)\u001b[0m\u001b[1;33m\u001b[0m\u001b[1;33m\u001b[0m\u001b[0m\n",
      "\u001b[1;31mAttributeError\u001b[0m: 'Employee' object has no attribute 'id'"
     ]
    }
   ],
   "source": [
    "class Employee:\n",
    "    def __init__(self,id,name):\n",
    "        self.id = id\n",
    "        self.name = name\n",
    "    def display(self):\n",
    "        print(f\"ID: {self.id} \\nName:{self.name}\")\n",
    "# Creating a emp instance of Employee class\n",
    "emp = Employee(1,\"rizwan\")\n",
    "emp.display()\n",
    "\n",
    "# Deleting the property of object\n",
    "del emp.id\n",
    "# Deleting the object itself\n",
    "try:\n",
    "    print(emp.id)\n",
    "except NameError:\n",
    "    print(\"emp.id is not defined\")\n",
    "\n",
    "del emp\n",
    "try:\n",
    "    emp.display()  # it will gives error after deleting emp\n",
    "except NameError:\n",
    "    print(\"emp is not defined\")\n"
   ]
  },
  {
   "cell_type": "code",
   "execution_count": null,
   "id": "acd49c1d",
   "metadata": {},
   "outputs": [],
   "source": []
  }
 ],
 "metadata": {
  "kernelspec": {
   "display_name": "Python 3",
   "language": "python",
   "name": "python3"
  },
  "language_info": {
   "codemirror_mode": {
    "name": "ipython",
    "version": 3
   },
   "file_extension": ".py",
   "mimetype": "text/x-python",
   "name": "python",
   "nbconvert_exporter": "python",
   "pygments_lexer": "ipython3",
   "version": "3.8.8"
  }
 },
 "nbformat": 4,
 "nbformat_minor": 5
}
