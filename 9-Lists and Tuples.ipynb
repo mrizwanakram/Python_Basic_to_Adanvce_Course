{
 "cells": [
  {
   "cell_type": "code",
   "execution_count": 1,
   "metadata": {},
   "outputs": [],
   "source": [
    "  #Dictionreis\n",
    "  #Dictiomries are allows yo to store key,values pairs.\n",
    "  #The also known as, Maps,Hashtables,Associate Arrays"
   ]
  },
  {
   "cell_type": "code",
   "execution_count": 5,
   "metadata": {},
   "outputs": [
    {
     "data": {
      "text/plain": [
       "43490495"
      ]
     },
     "execution_count": 5,
     "metadata": {},
     "output_type": "execute_result"
    }
   ],
   "source": [
    "d = {\"tom\": 43490495,\"rob\":439879474,\"joe\":7759347497}\n",
    "d[\"tom\"]"
   ]
  },
  {
   "cell_type": "code",
   "execution_count": 6,
   "metadata": {},
   "outputs": [
    {
     "data": {
      "text/plain": [
       "7759347497"
      ]
     },
     "execution_count": 6,
     "metadata": {},
     "output_type": "execute_result"
    }
   ],
   "source": [
    "d[\"joe\"]"
   ]
  },
  {
   "cell_type": "code",
   "execution_count": 7,
   "metadata": {},
   "outputs": [
    {
     "data": {
      "text/plain": [
       "{'tom': 43490495, 'rob': 439879474, 'joe': 7759347497, 'sam': 7453544353}"
      ]
     },
     "execution_count": 7,
     "metadata": {},
     "output_type": "execute_result"
    }
   ],
   "source": [
    "d[\"sam\"]=7453544353\n",
    "d"
   ]
  },
  {
   "cell_type": "code",
   "execution_count": 9,
   "metadata": {},
   "outputs": [],
   "source": [
    "del d[\"sam\"]"
   ]
  },
  {
   "cell_type": "code",
   "execution_count": 15,
   "metadata": {},
   "outputs": [
    {
     "data": {
      "text/plain": [
       "{'tom': 43490495, 'rob': 439879474, 'joe': 7759347497}"
      ]
     },
     "execution_count": 15,
     "metadata": {},
     "output_type": "execute_result"
    }
   ],
   "source": [
    "d"
   ]
  },
  {
   "cell_type": "code",
   "execution_count": 16,
   "metadata": {},
   "outputs": [
    {
     "name": "stdout",
     "output_type": "stream",
     "text": [
      "key : tom value : 43490495\n",
      "key : rob value : 439879474\n",
      "key : joe value : 7759347497\n"
     ]
    }
   ],
   "source": [
    "for key in d:\n",
    "    print(\"key :\",key,\"value :\",d[key])"
   ]
  },
  {
   "cell_type": "code",
   "execution_count": 18,
   "metadata": {},
   "outputs": [
    {
     "name": "stdout",
     "output_type": "stream",
     "text": [
      "key : joe value : 43490495\n",
      "key : joe value : 439879474\n",
      "key : joe value : 7759347497\n"
     ]
    }
   ],
   "source": [
    "for k,v in d.items():\n",
    "    print(\"key :\",key,\"value :\",v)"
   ]
  },
  {
   "cell_type": "code",
   "execution_count": 19,
   "metadata": {},
   "outputs": [
    {
     "data": {
      "text/plain": [
       "True"
      ]
     },
     "execution_count": 19,
     "metadata": {},
     "output_type": "execute_result"
    }
   ],
   "source": [
    "\"tom\" in d"
   ]
  },
  {
   "cell_type": "code",
   "execution_count": 20,
   "metadata": {},
   "outputs": [
    {
     "data": {
      "text/plain": [
       "False"
      ]
     },
     "execution_count": 20,
     "metadata": {},
     "output_type": "execute_result"
    }
   ],
   "source": [
    "\"sam\" in d"
   ]
  },
  {
   "cell_type": "code",
   "execution_count": 23,
   "metadata": {},
   "outputs": [],
   "source": [
    "d.clear()"
   ]
  },
  {
   "cell_type": "code",
   "execution_count": 24,
   "metadata": {},
   "outputs": [
    {
     "data": {
      "text/plain": [
       "{}"
      ]
     },
     "execution_count": 24,
     "metadata": {},
     "output_type": "execute_result"
    }
   ],
   "source": [
    "d"
   ]
  },
  {
   "cell_type": "code",
   "execution_count": 26,
   "metadata": {},
   "outputs": [
    {
     "data": {
      "text/plain": [
       "5"
      ]
     },
     "execution_count": 26,
     "metadata": {},
     "output_type": "execute_result"
    }
   ],
   "source": [
    "#Tuple\n",
    "#Tuple is a list of values groupped together\n",
    "point = (5,9)#x-y-Cordinates\n",
    "point[0]"
   ]
  },
  {
   "cell_type": "code",
   "execution_count": 27,
   "metadata": {},
   "outputs": [
    {
     "data": {
      "text/plain": [
       "9"
      ]
     },
     "execution_count": 27,
     "metadata": {},
     "output_type": "execute_result"
    }
   ],
   "source": [
    "point[1]"
   ]
  },
  {
   "cell_type": "code",
   "execution_count": 28,
   "metadata": {},
   "outputs": [],
   "source": [
    "#List:All values have similar meaning(Homogeneous)\n",
    "#Tuple:All values have different meaning(Hetrogenous)"
   ]
  },
  {
   "cell_type": "code",
   "execution_count": 29,
   "metadata": {},
   "outputs": [],
   "source": [
    "#List example\n",
    "expense_list = [300,400,500]#every item is an expense\n",
    "list_ofnames = [\"bob\",\"Tom\",\"partha\"]#Every item is a name of person\n",
    "point=(4,6)#4 is x-cordinate 5 is y-cordinate\n",
    "addres=(\"1 purple street\",\"new york\",100001)\n"
   ]
  },
  {
   "cell_type": "code",
   "execution_count": 30,
   "metadata": {},
   "outputs": [
    {
     "ename": "TypeError",
     "evalue": "'tuple' object does not support item assignment",
     "output_type": "error",
     "traceback": [
      "\u001b[1;31m---------------------------------------------------------------------------\u001b[0m",
      "\u001b[1;31mTypeError\u001b[0m                                 Traceback (most recent call last)",
      "\u001b[1;32mc:\\Users\\M.Rizwan\\Desktop\\My important Data\\Python_basic_Advance_with_Codebasics\\9-Lists and Tuples.ipynb Cell 17\u001b[0m in \u001b[0;36m<module>\u001b[1;34m\u001b[0m\n\u001b[0;32m      <a href='vscode-notebook-cell:/c%3A/Users/M.Rizwan/Desktop/My%20important%20Data/Python_basic_Advance_with_Codebasics/9-Lists%20and%20Tuples.ipynb#ch0000016?line=0'>1</a>\u001b[0m \u001b[39m#Tuoles are mutable\u001b[39;00m\n\u001b[1;32m----> <a href='vscode-notebook-cell:/c%3A/Users/M.Rizwan/Desktop/My%20important%20Data/Python_basic_Advance_with_Codebasics/9-Lists%20and%20Tuples.ipynb#ch0000016?line=1'>2</a>\u001b[0m point[\u001b[39m0\u001b[39m]\u001b[39m=\u001b[39m\u001b[39m50\u001b[39m\n\u001b[0;32m      <a href='vscode-notebook-cell:/c%3A/Users/M.Rizwan/Desktop/My%20important%20Data/Python_basic_Advance_with_Codebasics/9-Lists%20and%20Tuples.ipynb#ch0000016?line=2'>3</a>\u001b[0m point\n",
      "\u001b[1;31mTypeError\u001b[0m: 'tuple' object does not support item assignment"
     ]
    }
   ],
   "source": [
    "#Tuples are immutable\n",
    "point[0]=50\n",
    "point"
   ]
  },
  {
   "cell_type": "code",
   "execution_count": null,
   "metadata": {},
   "outputs": [],
   "source": []
  }
 ],
 "metadata": {
  "kernelspec": {
   "display_name": "Python 3.9.7 64-bit",
   "language": "python",
   "name": "python3"
  },
  "language_info": {
   "codemirror_mode": {
    "name": "ipython",
    "version": 3
   },
   "file_extension": ".py",
   "mimetype": "text/x-python",
   "name": "python",
   "nbconvert_exporter": "python",
   "pygments_lexer": "ipython3",
   "version": "3.9.7"
  },
  "orig_nbformat": 4,
  "vscode": {
   "interpreter": {
    "hash": "6813e28bbd3b74e18b208e6cce46887429a668630322c457c98c074ae59972e4"
   }
  }
 },
 "nbformat": 4,
 "nbformat_minor": 2
}
