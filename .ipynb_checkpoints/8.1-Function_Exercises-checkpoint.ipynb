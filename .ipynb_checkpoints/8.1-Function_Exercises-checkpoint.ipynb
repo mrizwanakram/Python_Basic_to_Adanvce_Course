{
 "cells": [
  {
   "cell_type": "markdown",
   "id": "59f08517",
   "metadata": {},
   "source": [
    "### Excercise_No_1\n"
   ]
  },
  {
   "cell_type": "markdown",
   "id": "5dce171a",
   "metadata": {},
   "source": [
    "#### Write a function called calculate_area that takes base and height as an input and returns and area of a triangle. Equation of an area of a triangle is,       area = (1/2) * base * height"
   ]
  },
  {
   "cell_type": "code",
   "execution_count": 1,
   "id": "38c45384",
   "metadata": {},
   "outputs": [
    {
     "name": "stdout",
     "output_type": "stream",
     "text": [
      "The area of this Triangle is :  10.0\n"
     ]
    }
   ],
   "source": [
    "def calulate_area(base,height):\n",
    "    area = (1/2) * base * height\n",
    "    return area\n",
    "area = calulate_area(4,5)\n",
    "print(\"The area of this Triangle is : \",area)\n",
    "    "
   ]
  },
  {
   "cell_type": "markdown",
   "id": "9a09d90c",
   "metadata": {},
   "source": [
    "### Excercise No 2"
   ]
  },
  {
   "cell_type": "markdown",
   "id": "affd3986",
   "metadata": {},
   "source": [
    "##### Modify above function to take third parameter shape type. It can be either \"triangle\" or \"rectangle\". Based on shape type it will calculate area. Equation of rectangle's area is===rectangle area=length * width\n",
    "If no shape is supplied then it should take triangle as a default shape"
   ]
  },
  {
   "cell_type": "code",
   "execution_count": 13,
   "id": "8dc604af",
   "metadata": {},
   "outputs": [
    {
     "name": "stdout",
     "output_type": "stream",
     "text": [
      "The area of this triangle is : ('The area of triangle is : ', 24.0)\n",
      "The area of this rectangle is : shape is from out of range \n",
      "The area of this triangle is : ('The area of triangle is : ', 20.0)\n",
      "The area of this rectangle is : ('The area of triangle is : ', 24.0)\n"
     ]
    }
   ],
   "source": [
    "def calculate_area(dimention1,dimention2, shape= \"triangle\"):\n",
    "    if shape == \"triangle\":\n",
    "        area = (\"The area of triangle is : \",(1/2)*dimention1*dimention2)\n",
    "    elif shape == \"Rectangle\":\n",
    "        area = (\"The area of rectangle is : \",dimention1*dimention2)\n",
    "    else:\n",
    "        area = \"shape is from out of range \"\n",
    "        shape = None\n",
    "    return area\n",
    "length = 12\n",
    "weight = 4\n",
    "area = calculate_area(length,weight,\"triangle\")\n",
    "print(\"The area of this triangle is :\",area)\n",
    "\n",
    "base = 12\n",
    "height = 4\n",
    "area = calculate_area(base,height,\"rectangle\")\n",
    "print(\"The area of this rectangle is :\",area)\n",
    "\n",
    "length = 10\n",
    "weight = 4\n",
    "area = calculate_area(length,weight)\n",
    "print(\"The area of this triangle is :\",area)\n",
    "\n",
    "base = 12\n",
    "height = 4\n",
    "area = calculate_area(base,height)\n",
    "print(\"The area of this rectangle is :\",area)"
   ]
  },
  {
   "cell_type": "code",
   "execution_count": null,
   "id": "6f7db5bf",
   "metadata": {},
   "outputs": [],
   "source": []
  },
  {
   "cell_type": "code",
   "execution_count": null,
   "id": "bd92789f",
   "metadata": {},
   "outputs": [],
   "source": []
  },
  {
   "cell_type": "code",
   "execution_count": null,
   "id": "a25785db",
   "metadata": {},
   "outputs": [],
   "source": [
    "#Write a function called print_pattern that takes integer number as an argument\n",
    "#and prints following pattern if input number is 3.\n",
    "# *\n",
    "# **\n",
    "# ***\n",
    "#if input is 4 then it should print -->"
   ]
  },
  {
   "cell_type": "code",
   "execution_count": 17,
   "id": "aef1712c",
   "metadata": {},
   "outputs": [
    {
     "name": "stdout",
     "output_type": "stream",
     "text": [
      "*\n",
      "**\n",
      "***\n"
     ]
    }
   ],
   "source": [
    "def print_pattern(n=5):\n",
    "    for i in range(n):\n",
    "        s = ''\n",
    "        for j in range(i + 1):\n",
    "            s = s + '*'\n",
    "        print(s)\n",
    "inp = print_pattern(3)\n"
   ]
  },
  {
   "cell_type": "code",
   "execution_count": 18,
   "id": "ff475076",
   "metadata": {},
   "outputs": [
    {
     "name": "stdout",
     "output_type": "stream",
     "text": [
      "*\n",
      "**\n",
      "***\n",
      "****\n"
     ]
    }
   ],
   "source": [
    "def print_pattern(n=5):\n",
    "    for i in range(n):\n",
    "        s = ''\n",
    "        for j in range(i + 1):\n",
    "            s = s + '*'\n",
    "        print(s)\n",
    "inp = print_pattern(4)\n"
   ]
  },
  {
   "cell_type": "code",
   "execution_count": 19,
   "id": "3b277193",
   "metadata": {},
   "outputs": [
    {
     "name": "stdout",
     "output_type": "stream",
     "text": [
      "*\n",
      "**\n",
      "***\n",
      "****\n",
      "*****\n"
     ]
    }
   ],
   "source": [
    "def print_pattern(n=5):\n",
    "    for i in range(n):\n",
    "        s = ''\n",
    "        for j in range(i + 1):\n",
    "            s = s + '*'\n",
    "        print(s)\n",
    "inp = print_pattern()"
   ]
  },
  {
   "cell_type": "code",
   "execution_count": null,
   "id": "d5612e61",
   "metadata": {},
   "outputs": [],
   "source": []
  },
  {
   "cell_type": "code",
   "execution_count": null,
   "id": "4269bf2b",
   "metadata": {},
   "outputs": [],
   "source": []
  }
 ],
 "metadata": {
  "kernelspec": {
   "display_name": "Python 3",
   "language": "python",
   "name": "python3"
  },
  "language_info": {
   "codemirror_mode": {
    "name": "ipython",
    "version": 3
   },
   "file_extension": ".py",
   "mimetype": "text/x-python",
   "name": "python",
   "nbconvert_exporter": "python",
   "pygments_lexer": "ipython3",
   "version": "3.8.8"
  }
 },
 "nbformat": 4,
 "nbformat_minor": 5
}
