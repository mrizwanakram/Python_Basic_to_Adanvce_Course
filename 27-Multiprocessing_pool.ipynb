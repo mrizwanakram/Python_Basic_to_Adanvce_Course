{
 "cells": [
  {
   "cell_type": "code",
   "execution_count": 1,
   "metadata": {},
   "outputs": [],
   "source": [
    "# Multiprocessing Pool means that we can use multiple cores to do the same task.\n",
    "# Cores are the CPU's in a computer.\n",
    "# Map is used to map the function to the list of arguments.\n",
    "# Reduce is used to reduce the list of arguments to a single value."
   ]
  },
  {
   "cell_type": "code",
   "execution_count": 2,
   "metadata": {},
   "outputs": [
    {
     "name": "stdout",
     "output_type": "stream",
     "text": [
      "[1, 4, 9, 16, 25]\n"
     ]
    }
   ],
   "source": [
    "#Example 1:\n",
    "# without map and reduce\n",
    "def f(n):\n",
    "    return n * n\n",
    "\n",
    "if __name__ == \"__main__\":\n",
    "    array = [1, 2, 3, 4, 5]\n",
    "    result = []\n",
    "    for n in array:\n",
    "        result.append(f(n))\n",
    "    print(result)"
   ]
  },
  {
   "cell_type": "code",
   "execution_count": 3,
   "metadata": {},
   "outputs": [],
   "source": [
    "from multiprocessing import Pool\n",
    "def f(n):\n",
    "    return n * n\n",
    "\n",
    "if __name__ == \"__main__\":\n",
    "    array = [1, 2, 3, 4, 5]\n",
    "    p = Pool()\n",
    "    result = p.map(f, array)\n",
    "    print(result)"
   ]
  },
  {
   "cell_type": "code",
   "execution_count": null,
   "metadata": {},
   "outputs": [],
   "source": []
  }
 ],
 "metadata": {
  "kernelspec": {
   "display_name": "Python 3.9.7 64-bit",
   "language": "python",
   "name": "python3"
  },
  "language_info": {
   "codemirror_mode": {
    "name": "ipython",
    "version": 3
   },
   "file_extension": ".py",
   "mimetype": "text/x-python",
   "name": "python",
   "nbconvert_exporter": "python",
   "pygments_lexer": "ipython3",
   "version": "3.9.7"
  },
  "orig_nbformat": 4,
  "vscode": {
   "interpreter": {
    "hash": "6813e28bbd3b74e18b208e6cce46887429a668630322c457c98c074ae59972e4"
   }
  }
 },
 "nbformat": 4,
 "nbformat_minor": 2
}
