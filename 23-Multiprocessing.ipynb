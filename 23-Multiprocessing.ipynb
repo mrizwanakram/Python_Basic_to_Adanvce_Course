{
 "cells": [
  {
   "cell_type": "code",
   "execution_count": 1,
   "metadata": {},
   "outputs": [],
   "source": [
    "# Multiprocessing\n",
    "# "
   ]
  },
  {
   "cell_type": "code",
   "execution_count": 2,
   "metadata": {},
   "outputs": [],
   "source": [
    "#Create two processes\n",
    "# 1) First is to  calculate square of all numbers\n",
    "\n",
    "# 2)Second one is to calculate cube of numbers "
   ]
  },
  {
   "cell_type": "code",
   "execution_count": 3,
   "metadata": {},
   "outputs": [
    {
     "name": "stdout",
     "output_type": "stream",
     "text": [
      "Done!\n"
     ]
    }
   ],
   "source": [
    "import time \n",
    "import multiprocessing\n",
    "\n",
    "def calc_square(numbers):\n",
    "    for n in numbers:\n",
    "        print(\"square \" + str(n*n))\n",
    "        \n",
    "def calc_cube(numbers):\n",
    "    for n in numbers:\n",
    "        print(\"cube \" + str(n*n*n))\n",
    "        \n",
    "if __name__ == \"__main__\":\n",
    "    arr = [2,3,8,9]\n",
    "    p1 = multiprocessing.Process(target=calc_square, args=(arr,))\n",
    "    p2 = multiprocessing.Process(target=calc_cube, args=(arr,))\n",
    "    \n",
    "    p1.start()\n",
    "    p2.start()\n",
    "    \n",
    "    # Join will wait until the process is finished\n",
    "    p1.join()\n",
    "    p2.join()\n",
    "    \n",
    "    print(\"Done!\")\n",
    "    "
   ]
  },
  {
   "cell_type": "code",
   "execution_count": null,
   "metadata": {},
   "outputs": [],
   "source": []
  }
 ],
 "metadata": {
  "kernelspec": {
   "display_name": "Python 3.9.7 64-bit",
   "language": "python",
   "name": "python3"
  },
  "language_info": {
   "codemirror_mode": {
    "name": "ipython",
    "version": 3
   },
   "file_extension": ".py",
   "mimetype": "text/x-python",
   "name": "python",
   "nbconvert_exporter": "python",
   "pygments_lexer": "ipython3",
   "version": "3.9.7"
  },
  "orig_nbformat": 4,
  "vscode": {
   "interpreter": {
    "hash": "6813e28bbd3b74e18b208e6cce46887429a668630322c457c98c074ae59972e4"
   }
  }
 },
 "nbformat": 4,
 "nbformat_minor": 2
}
