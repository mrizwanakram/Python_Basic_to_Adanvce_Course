{
 "cells": [
  {
   "cell_type": "code",
   "execution_count": 3,
   "metadata": {},
   "outputs": [
    {
     "name": "stdout",
     "output_type": "stream",
     "text": [
      "outside process:[]\n"
     ]
    }
   ],
   "source": [
    "import multiprocessing\n",
    "\n",
    "result = []\n",
    "\n",
    "def calc_square(numbers):\n",
    "    global result\n",
    "    for n in numbers:\n",
    "        result.append(n*n)\n",
    "    print(\"inside process:\", +  str(result))\n",
    "    \n",
    "if __name__ == \"__main__\":\n",
    "    numbers = [1, 2, 3, 4, 5]\n",
    "    p = multiprocessing.Process(target=calc_square, args=(numbers,))\n",
    "    \n",
    "    p.start()\n",
    "    p.join()  # wait for the process to finish\n",
    "    print('outside process:' + str(result))"
   ]
  },
  {
   "cell_type": "code",
   "execution_count": null,
   "metadata": {},
   "outputs": [],
   "source": []
  },
  {
   "cell_type": "code",
   "execution_count": 6,
   "metadata": {},
   "outputs": [
    {
     "name": "stdout",
     "output_type": "stream",
     "text": [
      "[0, 0, 0]\n"
     ]
    }
   ],
   "source": [
    "#use of array to share data between two process\n",
    "import multiprocessing\n",
    "\n",
    "def calc_square(numbers, result):\n",
    "    for idx, n in enumerate(numbers):\n",
    "        result[idx] = n * n\n",
    "if __name__ == \"__main__\":\n",
    "    numbers = [2,3,5]\n",
    "    result = multiprocessing.Array('i',3)\n",
    "    p = multiprocessing.Process(target = calc_square, args = (numbers,result))\n",
    "    \n",
    "    p.start()\n",
    "    p.join()\n",
    "    \n",
    "    print(result[:])"
   ]
  },
  {
   "cell_type": "code",
   "execution_count": 8,
   "metadata": {},
   "outputs": [
    {
     "name": "stdout",
     "output_type": "stream",
     "text": [
      "0.0\n"
     ]
    }
   ],
   "source": [
    "#use of array to share data between two process\n",
    "import multiprocessing\n",
    "\n",
    "def calc_square(numbers, result, v):\n",
    "    v.value = 44.5\n",
    "    for idx, n in enumerate(numbers):\n",
    "        result[idx] = n * n\n",
    "if __name__ == \"__main__\":\n",
    "    numbers = [2,3,5]\n",
    "    result = multiprocessing.Array('i',3)\n",
    "    v = multiprocessing.Value('d',0.0)\n",
    "    p = multiprocessing.Process(target = calc_square, args = (numbers,result,v))\n",
    "    \n",
    "    p.start()\n",
    "    p.join()\n",
    "    \n",
    "    print(v.value)"
   ]
  },
  {
   "cell_type": "code",
   "execution_count": null,
   "metadata": {},
   "outputs": [],
   "source": []
  }
 ],
 "metadata": {
  "kernelspec": {
   "display_name": "Python 3.9.7 64-bit",
   "language": "python",
   "name": "python3"
  },
  "language_info": {
   "codemirror_mode": {
    "name": "ipython",
    "version": 3
   },
   "file_extension": ".py",
   "mimetype": "text/x-python",
   "name": "python",
   "nbconvert_exporter": "python",
   "pygments_lexer": "ipython3",
   "version": "3.9.7"
  },
  "orig_nbformat": 4,
  "vscode": {
   "interpreter": {
    "hash": "6813e28bbd3b74e18b208e6cce46887429a668630322c457c98c074ae59972e4"
   }
  }
 },
 "nbformat": 4,
 "nbformat_minor": 2
}
