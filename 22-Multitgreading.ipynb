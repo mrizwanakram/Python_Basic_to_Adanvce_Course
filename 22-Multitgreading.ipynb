{
 "cells": [
  {
   "cell_type": "code",
   "execution_count": 1,
   "metadata": {},
   "outputs": [],
   "source": [
    "#Multithreding is a way to run multiple processes at the same time.\n",
    "#Handling tasks means in programming handling threadeds tasks.\n"
   ]
  },
  {
   "cell_type": "code",
   "execution_count": 4,
   "metadata": {},
   "outputs": [
    {
     "name": "stdout",
     "output_type": "stream",
     "text": [
      "Calculate square numbers\n",
      "square : 4\n",
      "square : 9\n",
      "square : 16\n",
      "square : 64\n",
      "square : 81\n",
      "calculate cube of numbers\n",
      "cube 8\n",
      "cube 27\n",
      "cube 64\n",
      "cube 512\n",
      "cube 729\n"
     ]
    }
   ],
   "source": [
    "#Problem\n",
    "#For a given list of numbers print square and cube of every numbers\n",
    "\n",
    "import time \n",
    "\n",
    "def calc_square(numbers):\n",
    "    print(\"Calculate square numbers\")\n",
    "    for n in numbers:\n",
    "        time.sleep(0.2)\n",
    "        print('square :',n * n)\n",
    "        \n",
    "def calc_cube(numbers):\n",
    "    print(\"calculate cube of numbers\")\n",
    "    for n in numbers:\n",
    "        time.sleep(0.2)\n",
    "        print(\"cube\",n*n*n)\n",
    "        \n",
    "arr = [2,3,4,8,9]\n",
    "t = time.time\n",
    "calc_square(arr)\n",
    "calc_cube(arr)\n",
    "    "
   ]
  },
  {
   "cell_type": "code",
   "execution_count": 6,
   "metadata": {},
   "outputs": [
    {
     "name": "stdout",
     "output_type": "stream",
     "text": [
      "Calculate square numberscalculate cube of numbers\n",
      "\n",
      "cubesquare : 8\n",
      " 4\n",
      "cubesquare : 9\n",
      " 27\n",
      "square : 16\n",
      "cube 64\n",
      "cube 512\n",
      "square : 64\n",
      "square : 81cube\n",
      " 729\n"
     ]
    },
    {
     "ename": "TypeError",
     "evalue": "unsupported operand type(s) for -: 'float' and 'builtin_function_or_method'",
     "output_type": "error",
     "traceback": [
      "\u001b[1;31m---------------------------------------------------------------------------\u001b[0m",
      "\u001b[1;31mTypeError\u001b[0m                                 Traceback (most recent call last)",
      "\u001b[1;32mc:\\Users\\M.Rizwan\\Desktop\\My important Data\\Python_basic_Advance_with_Codebasics\\22-Multitgreading.ipynb Cell 3\u001b[0m in \u001b[0;36m<module>\u001b[1;34m\u001b[0m\n\u001b[0;32m     <a href='vscode-notebook-cell:/c%3A/Users/M.Rizwan/Desktop/My%20important%20Data/Python_basic_Advance_with_Codebasics/22-Multitgreading.ipynb#W2sZmlsZQ%3D%3D?line=27'>28</a>\u001b[0m t1\u001b[39m.\u001b[39mjoin()\n\u001b[0;32m     <a href='vscode-notebook-cell:/c%3A/Users/M.Rizwan/Desktop/My%20important%20Data/Python_basic_Advance_with_Codebasics/22-Multitgreading.ipynb#W2sZmlsZQ%3D%3D?line=28'>29</a>\u001b[0m t2\u001b[39m.\u001b[39mjoin()\n\u001b[1;32m---> <a href='vscode-notebook-cell:/c%3A/Users/M.Rizwan/Desktop/My%20important%20Data/Python_basic_Advance_with_Codebasics/22-Multitgreading.ipynb#W2sZmlsZQ%3D%3D?line=29'>30</a>\u001b[0m \u001b[39mprint\u001b[39m(\u001b[39m\"\u001b[39m\u001b[39mdone in : \u001b[39m\u001b[39m\"\u001b[39m,time\u001b[39m.\u001b[39;49mtime() \u001b[39m-\u001b[39;49m t)\n",
      "\u001b[1;31mTypeError\u001b[0m: unsupported operand type(s) for -: 'float' and 'builtin_function_or_method'"
     ]
    }
   ],
   "source": [
    "#use of multi threading\n",
    "#Problem\n",
    "#For a given list of numbers print square and cube of every numbers\n",
    "\n",
    "import time \n",
    "import threading\n",
    "\n",
    "def calc_square(numbers):\n",
    "    print(\"Calculate square numbers\")\n",
    "    for n in numbers:\n",
    "        time.sleep(0.2)\n",
    "        print('square :',n * n)\n",
    "        \n",
    "def calc_cube(numbers):\n",
    "    print(\"calculate cube of numbers\")\n",
    "    for n in numbers:\n",
    "        time.sleep(0.2)\n",
    "        print(\"cube\",n*n*n)\n",
    "        \n",
    "arr = [2,3,4,8,9]\n",
    "t = time.time\n",
    "t1 = threading.Thread(target=calc_square, args=(arr,))\n",
    "t2 = threading.Thread(target=calc_cube, args=(arr,))\n",
    "\n",
    "t1.start()\n",
    "t2.start()\n",
    "\n",
    "t1.join()\n",
    "t2.join()\n",
    "print(\"done in : \",time.time() - t)\n"
   ]
  },
  {
   "cell_type": "code",
   "execution_count": null,
   "metadata": {},
   "outputs": [],
   "source": []
  }
 ],
 "metadata": {
  "kernelspec": {
   "display_name": "Python 3.9.7 64-bit",
   "language": "python",
   "name": "python3"
  },
  "language_info": {
   "codemirror_mode": {
    "name": "ipython",
    "version": 3
   },
   "file_extension": ".py",
   "mimetype": "text/x-python",
   "name": "python",
   "nbconvert_exporter": "python",
   "pygments_lexer": "ipython3",
   "version": "3.9.7"
  },
  "orig_nbformat": 4,
  "vscode": {
   "interpreter": {
    "hash": "6813e28bbd3b74e18b208e6cce46887429a668630322c457c98c074ae59972e4"
   }
  }
 },
 "nbformat": 4,
 "nbformat_minor": 2
}
