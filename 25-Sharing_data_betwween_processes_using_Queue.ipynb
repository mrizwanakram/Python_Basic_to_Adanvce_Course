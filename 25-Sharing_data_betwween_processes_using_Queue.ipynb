{
 "cells": [
  {
   "cell_type": "code",
   "execution_count": 1,
   "metadata": {},
   "outputs": [],
   "source": [
    "#Multiprocessing is a module that allows us to run multiple processes at the same time."
   ]
  },
  {
   "cell_type": "code",
   "execution_count": 2,
   "metadata": {},
   "outputs": [
    {
     "name": "stdout",
     "output_type": "stream",
     "text": [
      "outside process:[]\n"
     ]
    }
   ],
   "source": [
    "import multiprocessing\n",
    "result = []\n",
    "\n",
    "def calc_square(numbers):\n",
    "    global result\n",
    "    for n in numbers:\n",
    "        result.append(n*n)\n",
    "    print('inside process:' +  str(result))\n",
    "    \n",
    "if __name__ == '__main__':\n",
    "    numbers = [1,2,3,4,5]\n",
    "    p = multiprocessing.Process(target=calc_square, args=(numbers,))\n",
    "    p.start()\n",
    "    p.join()\n",
    "    print('outside process:' + str(result))"
   ]
  },
  {
   "cell_type": "code",
   "execution_count": 3,
   "metadata": {},
   "outputs": [],
   "source": [
    "# queue is a data structure that allows us to share data between processes.\n"
   ]
  },
  {
   "cell_type": "code",
   "execution_count": 4,
   "metadata": {},
   "outputs": [],
   "source": [
    "import multiprocessing\n",
    "def calc_square(numbers, q):\n",
    "    for n in numbers:\n",
    "        q.put(n*n)\n",
    "        \n",
    "if __name__ == '__main__':\n",
    "    numbers = [1,2,3,4,5]\n",
    "    q = multiprocessing.Queue()\n",
    "    p = multiprocessing.Process(target=calc_square, args=(numbers, q))\n",
    "    \n",
    "    p.start()\n",
    "    p.join()\n",
    "    \n",
    "    while q.empty() is False:\n",
    "        print(q.get())\n",
    "    "
   ]
  },
  {
   "cell_type": "code",
   "execution_count": null,
   "metadata": {},
   "outputs": [],
   "source": []
  }
 ],
 "metadata": {
  "kernelspec": {
   "display_name": "Python 3.9.7 64-bit",
   "language": "python",
   "name": "python3"
  },
  "language_info": {
   "codemirror_mode": {
    "name": "ipython",
    "version": 3
   },
   "file_extension": ".py",
   "mimetype": "text/x-python",
   "name": "python",
   "nbconvert_exporter": "python",
   "pygments_lexer": "ipython3",
   "version": "3.9.7"
  },
  "orig_nbformat": 4,
  "vscode": {
   "interpreter": {
    "hash": "6813e28bbd3b74e18b208e6cce46887429a668630322c457c98c074ae59972e4"
   }
  }
 },
 "nbformat": 4,
 "nbformat_minor": 2
}
