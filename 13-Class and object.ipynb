{
 "cells": [
  {
   "cell_type": "code",
   "execution_count": 13,
   "metadata": {},
   "outputs": [
    {
     "name": "stdout",
     "output_type": "stream",
     "text": [
      "Hello my name is John and I am 36\n"
     ]
    }
   ],
   "source": [
    "#class\n",
    "# a class is a blueprint for an object\n",
    "#object\n",
    "# an object is an instance of a class\n",
    "# class is a type of object\n",
    "class Person:\n",
    "    def __init__(self, name, age):\n",
    "        self.name = name\n",
    "        self.age = age\n",
    "    def myfunc(self):\n",
    "        print(\"Hello my name is \" + self.name + \" and I am \" + str(self.age))\n",
    "\n",
    "Person1 = Person(\"John\", 36)\n",
    "Person1.myfunc()\n",
    "\n"
   ]
  },
  {
   "cell_type": "code",
   "execution_count": null,
   "metadata": {},
   "outputs": [],
   "source": []
  },
  {
   "cell_type": "code",
   "execution_count": null,
   "metadata": {},
   "outputs": [],
   "source": []
  },
  {
   "cell_type": "code",
   "execution_count": 14,
   "metadata": {},
   "outputs": [
    {
     "name": "stdout",
     "output_type": "stream",
     "text": [
      "rizwan plays tennis\n",
      "rizwan says how are you ?\n"
     ]
    }
   ],
   "source": [
    "class Human:\n",
    "    def __init__(self,n,o):  #init start properties og that prticular class\n",
    "        self.name = n #self meanss class itself\n",
    "        self.occupation = o\n",
    "        \n",
    "    def do_work(self):\n",
    "        if self.occupation == \"tennis player\":\n",
    "            print(self.name,\"plays tennis\")\n",
    "        elif self.occupation == \"actor\":\n",
    "            print(self.name,\"shoots a film\")\n",
    "            \n",
    "    def speaks(self):\n",
    "        print(self.name,\"says how are you ?\")\n",
    "        \n",
    "#intances of this class\n",
    "tom = Human(\"rizwan\",\"tennis player\")\n",
    "tom.do_work()\n",
    "tom.speaks()"
   ]
  },
  {
   "cell_type": "code",
   "execution_count": 15,
   "metadata": {},
   "outputs": [
    {
     "name": "stdout",
     "output_type": "stream",
     "text": [
      "rizwan shoots a film\n",
      "rizwan says how are you ?\n"
     ]
    }
   ],
   "source": [
    "class Human:\n",
    "    def __init__(self,n,o):  #init start properties og that prticular class\n",
    "        self.name = n #self meanss class itself\n",
    "        self.occupation = o\n",
    "        \n",
    "    def do_work(self):\n",
    "        if self.occupation == \"tennis player\":\n",
    "            print(self.name,\"plays tennis\")\n",
    "        elif self.occupation == \"actor\":\n",
    "            print(self.name,\"shoots a film\")\n",
    "            \n",
    "    def speaks(self):\n",
    "        print(self.name,\"says how are you ?\")\n",
    "        \n",
    "#intances of this class\n",
    "tom = Human(\"rizwan\",\"actor\")\n",
    "tom.do_work()\n",
    "tom.speaks()"
   ]
  },
  {
   "cell_type": "code",
   "execution_count": 19,
   "metadata": {},
   "outputs": [
    {
     "name": "stdout",
     "output_type": "stream",
     "text": [
      "umaar says how are you ?\n"
     ]
    }
   ],
   "source": [
    "class Human:\n",
    "    def __init__(self,n,o):  #init start properties og that prticular class\n",
    "        self.name = n #self meanss class itself\n",
    "        self.occupation = o\n",
    "        \n",
    "    def do_work(self):\n",
    "        if self.occupation == \"tennis player\":\n",
    "            print(self.name,\"plays tennis\")\n",
    "        elif self.occupation == \"actor\":\n",
    "            print(self.name,\"shoots a film\")\n",
    "            \n",
    "    def speaks(self):\n",
    "        print(self.name,\"says how are you ?\")\n",
    "\n",
    "#intances of this class\n",
    "ummar = Human(\"umaar\",\"act\")\n",
    "ummar.do_work()\n",
    "ummar.speaks()"
   ]
  },
  {
   "cell_type": "code",
   "execution_count": null,
   "metadata": {},
   "outputs": [],
   "source": []
  },
  {
   "cell_type": "code",
   "execution_count": null,
   "metadata": {},
   "outputs": [],
   "source": []
  }
 ],
 "metadata": {
  "kernelspec": {
   "display_name": "Python 3",
   "language": "python",
   "name": "python3"
  },
  "language_info": {
   "codemirror_mode": {
    "name": "ipython",
    "version": 3
   },
   "file_extension": ".py",
   "mimetype": "text/x-python",
   "name": "python",
   "nbconvert_exporter": "python",
   "pygments_lexer": "ipython3",
   "version": "3.8.8"
  },
  "vscode": {
   "interpreter": {
    "hash": "6813e28bbd3b74e18b208e6cce46887429a668630322c457c98c074ae59972e4"
   }
  }
 },
 "nbformat": 4,
 "nbformat_minor": 2
}
